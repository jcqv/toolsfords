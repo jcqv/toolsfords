{
 "cells": [
  {
   "cell_type": "markdown",
   "id": "91d74caa-d33e-4696-bfc3-f81a13cf2b56",
   "metadata": {},
   "source": [
    "# Data Science Tools and Ecosystem\n",
    "In this notebook, Data Science Tools and Ecosystem are summarized."
   ]
  },
  {
   "cell_type": "markdown",
   "id": "11f70b25-93e1-4e21-b26d-2d7018331ba7",
   "metadata": {},
   "source": [
    "## Author\n",
    "Jacques Verryn"
   ]
  },
  {
   "cell_type": "markdown",
   "id": "db95b157-9d78-46e5-ae98-7467ab0d999c",
   "metadata": {},
   "source": [
    "**Objectives:**\n",
    "* Create a Jupyter Notebook\n",
    "* Insert code and markdown cells\n",
    "   * List data science languages\n",
    "   * List data science libraries\n",
    "   * List data science IDEs\n",
    "   * Do some python arithmetic  "
   ]
  },
  {
   "cell_type": "markdown",
   "id": "04305752-196b-46c9-a7bf-b12c98bd4221",
   "metadata": {},
   "source": [
    "Some of the popular languages that Data Scientists use are:\n",
    "1. python\n",
    "2. R\n",
    "3. Java"
   ]
  },
  {
   "cell_type": "markdown",
   "id": "a81790f2-3ede-48c6-9322-f16ef03024d7",
   "metadata": {},
   "source": [
    "Some of the commonly used libraries used by Data Scientists include:\n",
    "1. pandas\n",
    "2. numpy\n",
    "3. matplotlib\n",
    "4. scikit-learn\n",
    "5. seaborn\n",
    "6. keras"
   ]
  },
  {
   "cell_type": "markdown",
   "id": "90c0ba39-1325-4a57-9023-9d59ca1ce549",
   "metadata": {},
   "source": [
    "| Data Science Tools | \n",
    "|------| \n",
    "| Jupyter Notebook | \n",
    "| Jupeter Lab | \n",
    "| RStudio | "
   ]
  },
  {
   "cell_type": "markdown",
   "id": "22a9338d-12e3-4dfd-91ec-31680a4b756b",
   "metadata": {},
   "source": [
    "### Below are a few examples of evaluating arithmetic expressions in Python"
   ]
  },
  {
   "cell_type": "code",
   "execution_count": 10,
   "id": "57f7ff46-4d50-4205-988f-4f9e43132695",
   "metadata": {},
   "outputs": [
    {
     "data": {
      "text/plain": [
       "17"
      ]
     },
     "execution_count": 10,
     "metadata": {},
     "output_type": "execute_result"
    }
   ],
   "source": [
    "# This a simple arithmetic expression to mutiply then add integers\n",
    "(3*4)+5"
   ]
  },
  {
   "cell_type": "code",
   "execution_count": 12,
   "id": "e399b6d5-c188-4b8d-ac29-2fc42d8951b3",
   "metadata": {},
   "outputs": [
    {
     "data": {
      "text/plain": [
       "3.3333333333333335"
      ]
     },
     "execution_count": 12,
     "metadata": {},
     "output_type": "execute_result"
    }
   ],
   "source": [
    "# This will convert 200 minutes to hours by diving by 60\n",
    "200 / 60"
   ]
  }
 ],
 "metadata": {
  "kernelspec": {
   "display_name": "Python 3 (ipykernel)",
   "language": "python",
   "name": "python3"
  },
  "language_info": {
   "codemirror_mode": {
    "name": "ipython",
    "version": 3
   },
   "file_extension": ".py",
   "mimetype": "text/x-python",
   "name": "python",
   "nbconvert_exporter": "python",
   "pygments_lexer": "ipython3",
   "version": "3.12.7"
  }
 },
 "nbformat": 4,
 "nbformat_minor": 5
}
